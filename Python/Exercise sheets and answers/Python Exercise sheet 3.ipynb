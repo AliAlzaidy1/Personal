{
 "cells": [
  {
   "cell_type": "markdown",
   "metadata": {},
   "source": [
    "## Python Exercise sheet 3"
   ]
  },
  {
   "cell_type": "markdown",
   "metadata": {},
   "source": [
    "Tasks\n",
    "1. Construct a list of 100 randomly generated share prices.\n",
    "2. Create 3 functions that return the average/minimum/maximum share price\n",
    "3. Model a stock exchange\n",
    "a. For 30 different stocks\n",
    "i. create a list of 50 buy orders\n",
    "ii. create a list of 50 sell orders\n",
    "b. Create a class that has methods to:\n",
    "i. match buyers with sellers\n",
    "ii. return the minimum order price per stock\n",
    "iii. return the maximum order price per stock\n",
    "iv. return the average order price per stock\n",
    "v. closestOrders method\n",
    "1. Search through each stocks orders\n",
    "a. determines and prints the two orders which were submitted \n",
    "closest together. minimum(X.time-Y.time)"
   ]
  },
  {
   "cell_type": "markdown",
   "metadata": {},
   "source": [
    "1."
   ]
  },
  {
   "cell_type": "code",
   "execution_count": 1,
   "metadata": {},
   "outputs": [],
   "source": [
    "import random"
   ]
  },
  {
   "cell_type": "code",
   "execution_count": 10,
   "metadata": {},
   "outputs": [],
   "source": [
    "def randstocks():\n",
    "    x = []\n",
    "    while len(x) < 100:\n",
    "        y = round(random.uniform(0,100),3)\n",
    "        x.append(y)\n",
    "    return x    "
   ]
  },
  {
   "cell_type": "code",
   "execution_count": 16,
   "metadata": {},
   "outputs": [
    {
     "name": "stdout",
     "output_type": "stream",
     "text": [
      "[63.943, 2.501, 27.503, 22.321, 73.647, 67.67, 89.218, 8.694, 42.192, 2.98, 21.864, 50.536, 2.654, 19.884, 64.988, 54.494, 22.044, 58.927, 80.943, 0.65, 80.582, 69.814, 34.025, 15.548, 95.721, 33.659, 9.275, 9.672, 84.749, 60.373, 80.713, 72.973, 53.623, 97.312, 37.853, 55.204, 82.94, 61.852, 86.171, 57.735, 70.457, 4.582, 22.79, 28.939, 7.979, 23.279, 10.1, 27.797, 63.568, 36.483, 37.018, 20.951, 26.698, 93.665, 64.804, 60.913, 17.114, 72.913, 16.34, 37.946, 98.952, 64.0, 55.695, 68.461, 84.285, 77.6, 22.905, 3.21, 31.545, 26.774, 21.098, 94.291, 87.637, 31.468, 65.544, 39.563, 91.455, 45.885, 26.488, 24.663, 56.137, 26.274, 58.459, 89.782, 39.94, 21.932, 99.754, 50.953, 9.091, 4.712, 10.965, 62.745, 79.208, 42.216, 6.353, 38.162, 99.612, 52.911, 97.108, 86.078]\n"
     ]
    }
   ],
   "source": [
    "#This list will change everytime you run the code\n",
    "random.seed(42) #This line of code stops the code regenaring already made lists which it does by specifying the number inside, e.g. my random.seed(42) will generate similar numbers as some one else's random.seed(42)\n",
    "list = randstocks()\n",
    "len (list)\n",
    "print(list)"
   ]
  },
  {
   "cell_type": "markdown",
   "metadata": {},
   "source": [
    "2."
   ]
  },
  {
   "cell_type": "code",
   "execution_count": 1,
   "metadata": {},
   "outputs": [],
   "source": [
    "def average(*x):\n",
    "    return sum(x)/len(x)\n",
    "\n",
    "def minimum(*x):\n",
    "    return min(x)\n",
    "\n",
    "def maximum(*x):\n",
    "    return max(x)\n"
   ]
  },
  {
   "cell_type": "markdown",
   "metadata": {},
   "source": [
    "3.\n",
    "    a."
   ]
  },
  {
   "cell_type": "code",
   "execution_count": null,
   "metadata": {},
   "outputs": [],
   "source": [
    "def buyorder(x):\n",
    "    ## Make a dictionary with  some stocks as the keys and buy prices as the values, 50 buy prices for 30 stocks\n",
    "    ##Do the same for sell orders and make sure they match up w the buy prices"
   ]
  },
  {
   "cell_type": "markdown",
   "metadata": {},
   "source": []
  }
 ],
 "metadata": {
  "kernelspec": {
   "display_name": "Python 3",
   "language": "python",
   "name": "python3"
  },
  "language_info": {
   "codemirror_mode": {
    "name": "ipython",
    "version": 3
   },
   "file_extension": ".py",
   "mimetype": "text/x-python",
   "name": "python",
   "nbconvert_exporter": "python",
   "pygments_lexer": "ipython3",
   "version": "3.11.4"
  },
  "orig_nbformat": 4
 },
 "nbformat": 4,
 "nbformat_minor": 2
}
