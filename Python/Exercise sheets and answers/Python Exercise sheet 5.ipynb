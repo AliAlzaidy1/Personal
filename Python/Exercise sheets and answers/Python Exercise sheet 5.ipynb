{
 "cells": [
  {
   "cell_type": "markdown",
   "metadata": {},
   "source": [
    "# Exercise – Objects \n",
    "\n",
    "\n",
    "## Objective\n",
    "\n",
    "The objective of this exercise is to understand how to create and use objects in Python.\n",
    "\n",
    "## Overview\n",
    "\n",
    "This exercise is in two parts. First, we're going to create some objects based around a scenario and \n",
    "then you're going to model something of your own. \n",
    "\n",
    "With all these exercises it is best to test each step as you write. To do this with objects create a class \n",
    "with a main method in it, then create the objects in this method and print out the various fields.\n",
    "\n",
    "## Step 1 – Books\n",
    "\n",
    "1. Create a class that describes a book. It should have a name, author, and price.\n",
    "\n",
    "2. In your main class create a number of book objects, set values and print out the contents of them.\n",
    "\n",
    "3. Declare a list variable to store up to three Book objects.\n",
    "\n",
    "4. Add the books (Book objects) to the list created in previous step and loop through the list \n",
    "printing out the contents of each object.\n",
    "\n",
    "5. Play around with various loops to iterate though loops.\n",
    "\n",
    "## Step 2 – Creating your own objects\n",
    "\n",
    "Think of a real-world object and model it in Python form.\n",
    "Think about the fields you will need to describe the object. Then write the code for your object including variables.\n",
    "\n",
    "If there is time, enhance your code to read input from the user or at runtime"
   ]
  },
  {
   "cell_type": "markdown",
   "metadata": {},
   "source": [
    "step 1"
   ]
  },
  {
   "cell_type": "code",
   "execution_count": null,
   "metadata": {},
   "outputs": [],
   "source": [
    "class Books():\n",
    "    def __init__(self, bookname, author, price)\n",
    "        self.bookname = bookname\n",
    "        self.author = author\n",
    "        self.price = price\n",
    "\n",
    "\n",
    "        "
   ]
  }
 ],
 "metadata": {
  "kernelspec": {
   "display_name": "Python 3",
   "language": "python",
   "name": "python3"
  },
  "language_info": {
   "name": "python",
   "version": "3.11.4"
  },
  "orig_nbformat": 4
 },
 "nbformat": 4,
 "nbformat_minor": 2
}
