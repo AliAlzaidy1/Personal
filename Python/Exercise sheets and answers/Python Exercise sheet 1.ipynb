{
 "cells": [
  {
   "cell_type": "markdown",
   "metadata": {},
   "source": [
    "## Python Exercise sheet 1\n"
   ]
  },
  {
   "cell_type": "markdown",
   "metadata": {},
   "source": [
    "1. Create two variables called name and age and set the value for name and age to something, \n",
    "you don't have to be honest!"
   ]
  },
  {
   "cell_type": "code",
   "execution_count": 5,
   "metadata": {},
   "outputs": [],
   "source": [
    "Name = \"Ali\"\n",
    "Age = 24"
   ]
  },
  {
   "cell_type": "markdown",
   "metadata": {},
   "source": [
    "2. Print out your name and age using the variables."
   ]
  },
  {
   "cell_type": "code",
   "execution_count": 6,
   "metadata": {},
   "outputs": [
    {
     "name": "stdout",
     "output_type": "stream",
     "text": [
      "Ali 24\n"
     ]
    }
   ],
   "source": [
    "print(Name,Age)"
   ]
  },
  {
   "cell_type": "markdown",
   "metadata": {},
   "source": [
    "3. Modify your print statements to print out something more informative, such as\n",
    "\"My age is... 21\"."
   ]
  },
  {
   "cell_type": "code",
   "execution_count": 7,
   "metadata": {},
   "outputs": [
    {
     "name": "stdout",
     "output_type": "stream",
     "text": [
      "Ali  Is  24  Years old\n"
     ]
    }
   ],
   "source": [
    "print(Name, \" Is \", Age, \" Years old\")"
   ]
  },
  {
   "cell_type": "markdown",
   "metadata": {},
   "source": [
    "4. Reassign your age to be something different and print it out"
   ]
  },
  {
   "cell_type": "code",
   "execution_count": 8,
   "metadata": {},
   "outputs": [
    {
     "name": "stdout",
     "output_type": "stream",
     "text": [
      "12\n"
     ]
    }
   ],
   "source": [
    "Age = 12\n",
    "print(Age)"
   ]
  },
  {
   "cell_type": "markdown",
   "metadata": {},
   "source": [
    "5. Write an expression that calculates the equation of a line and prints out each part to the \n",
    "screen:\n",
    "\n",
    "The equation is: y = m * x + c\n",
    "Where m is 1, x is 0.5 and c is 15\n",
    "\n",
    "You need to calculate the value of y (it is not a whole number, so make sure you\n",
    "get the correct value rather than a rounded one.)\n"
   ]
  },
  {
   "cell_type": "code",
   "execution_count": 9,
   "metadata": {},
   "outputs": [
    {
     "name": "stdout",
     "output_type": "stream",
     "text": [
      "17.0\n"
     ]
    }
   ],
   "source": [
    "m = 1\n",
    "c = 15\n",
    "#x = 0.5\n",
    "\n",
    "#y = m * x + c\n",
    "#print(y)\n",
    "\n",
    "\n",
    "## Alternatively if you want to choose your own x\n",
    "\n",
    "x = float(input( \"Choose a value for x\"))\n",
    "y = m * x + c\n",
    "print(y)"
   ]
  },
  {
   "cell_type": "markdown",
   "metadata": {},
   "source": [
    "6. Create a boolean (bool) value for isRaining and give it a value."
   ]
  },
  {
   "cell_type": "code",
   "execution_count": 10,
   "metadata": {},
   "outputs": [
    {
     "data": {
      "text/plain": [
       "bool"
      ]
     },
     "execution_count": 10,
     "metadata": {},
     "output_type": "execute_result"
    }
   ],
   "source": [
    "isRaining = True\n",
    "type(isRaining)"
   ]
  },
  {
   "cell_type": "markdown",
   "metadata": {},
   "source": [
    "7. Create another boolean (bool), happy and give it a different value to isRaining"
   ]
  },
  {
   "cell_type": "code",
   "execution_count": 11,
   "metadata": {},
   "outputs": [],
   "source": [
    "happy = False"
   ]
  },
  {
   "cell_type": "markdown",
   "metadata": {},
   "source": [
    "8. Combine the two booleans using the logical operators (and, or, not) to print out the value \n",
    "when:\n",
    "a. it is raining and we're happy\n",
    "b. it is raining and we're not happy\n",
    "c. it is not raining and we're happy\n",
    "d. it is not raining and we're not happy\n",
    "\n",
    "Then change the 'and' in the sentences to 'or'. Notice the difference it makes when you use or in a \n",
    "statement."
   ]
  },
  {
   "cell_type": "code",
   "execution_count": 12,
   "metadata": {},
   "outputs": [
    {
     "name": "stdout",
     "output_type": "stream",
     "text": [
      "False True False True\n"
     ]
    }
   ],
   "source": [
    "isRaininghappy = isRaining and happy\n",
    "isRainingnothappy = isRaining and not happy\n",
    "Notisraininghappy = isRaining and happy\n",
    "NotisRainingnothappy = not(isRaining and happy)\n",
    "\n",
    "print(isRaininghappy,isRainingnothappy,Notisraininghappy,NotisRainingnothappy )"
   ]
  },
  {
   "cell_type": "code",
   "execution_count": 13,
   "metadata": {},
   "outputs": [
    {
     "name": "stdout",
     "output_type": "stream",
     "text": [
      "True True True False\n"
     ]
    }
   ],
   "source": [
    "isRaininghappy = isRaining or happy\n",
    "isRainingnothappy = isRaining or not happy\n",
    "Notisraininghappy = isRaining or happy\n",
    "NotisRainingnothappy = not(isRaining or happy)\n",
    "\n",
    "print(isRaininghappy,isRainingnothappy,Notisraininghappy,NotisRainingnothappy )"
   ]
  },
  {
   "cell_type": "code",
   "execution_count": null,
   "metadata": {},
   "outputs": [],
   "source": []
  }
 ],
 "metadata": {
  "kernelspec": {
   "display_name": "Python 3",
   "language": "python",
   "name": "python3"
  },
  "language_info": {
   "codemirror_mode": {
    "name": "ipython",
    "version": 3
   },
   "file_extension": ".py",
   "mimetype": "text/x-python",
   "name": "python",
   "nbconvert_exporter": "python",
   "pygments_lexer": "ipython3",
   "version": "3.11.4"
  },
  "orig_nbformat": 4
 },
 "nbformat": 4,
 "nbformat_minor": 2
}
