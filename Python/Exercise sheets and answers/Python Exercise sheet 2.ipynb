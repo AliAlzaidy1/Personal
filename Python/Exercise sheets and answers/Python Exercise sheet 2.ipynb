{
 "cells": [
  {
   "cell_type": "markdown",
   "metadata": {},
   "source": [
    "## Python Exercise Sheet 2"
   ]
  },
  {
   "cell_type": "markdown",
   "metadata": {},
   "source": [
    "1. Write a while loop that prints out pairs of numbers that show the current value of n and the \n",
    "value of n + 10 as long as n is less than 10."
   ]
  },
  {
   "cell_type": "code",
   "execution_count": 3,
   "metadata": {},
   "outputs": [
    {
     "name": "stdout",
     "output_type": "stream",
     "text": [
      "0 10\n",
      "1 11\n",
      "2 12\n",
      "3 13\n",
      "4 14\n",
      "5 15\n",
      "6 16\n",
      "7 17\n",
      "8 18\n",
      "9 19\n"
     ]
    }
   ],
   "source": [
    "n = 0\n",
    "while n < 10:\n",
    "    n10 = n + 10\n",
    "    print (n , n10)\n",
    "    n = n + 1"
   ]
  },
  {
   "cell_type": "markdown",
   "metadata": {},
   "source": [
    "2. Then, write a while loop that prints out pairs of numbers that show n and 2n as long as n is \n",
    "less than 10\n",
    "\n",
    "    a. You don't need to use any predefined function for this, just consider using an appropriate operator"
   ]
  },
  {
   "cell_type": "code",
   "execution_count": 4,
   "metadata": {},
   "outputs": [
    {
     "name": "stdout",
     "output_type": "stream",
     "text": [
      "0 0\n",
      "1 2\n",
      "2 4\n",
      "3 6\n",
      "4 8\n",
      "5 10\n",
      "6 12\n",
      "7 14\n",
      "8 16\n",
      "9 18\n"
     ]
    }
   ],
   "source": [
    "n = 0\n",
    "while n < 10:\n",
    "    ndouble = n * 2\n",
    "    print (n , ndouble)\n",
    "    n = n + 1"
   ]
  },
  {
   "cell_type": "markdown",
   "metadata": {},
   "source": [
    "3. Write an if statement that based on a number between 1 and 7 prints out if today is a \n",
    "weekday or a weekend."
   ]
  },
  {
   "cell_type": "code",
   "execution_count": 17,
   "metadata": {},
   "outputs": [
    {
     "name": "stdout",
     "output_type": "stream",
     "text": [
      "You didn't pick a number between 1 and 7\n"
     ]
    }
   ],
   "source": [
    "\n",
    "# x=int(input(\"Choose a number between and inclusive of 1 and 7\"))\n",
    "\n",
    "# if x == 1:\n",
    "#     print(\"It's Monday\")\n",
    "# elif x == 2:\n",
    "#     print(\"It's Tuesday\")\n",
    "# elif x == 3:\n",
    "#      print(\"It's Wednesday\")\n",
    "# elif x == 4:\n",
    "#      print(\"It's Thursday\")\n",
    "# elif x == 5:\n",
    "#     print(\"It's Friday\")\n",
    "# elif x == 6:\n",
    "#     print(\"It's Saturday\")\n",
    "# elif x == 7:\n",
    "#     print (\"It's Sunday\")\n",
    "#else:\n",
    "#   print(\"You didn't pick a number between 1 and 7\")\n",
    "\n",
    "#OR IF AS QUESTION ASKS\n",
    "\n",
    "\n",
    "x=int(input(\"Choose a number between and inclusive of 1 and 7\"))\n",
    "\n",
    "if x >= 1 and x <= 5:\n",
    "    print(\"It's a weekday\")\n",
    "elif x == 6 or x == 7:\n",
    "    print(\"It's the weekend\")\n",
    "else:\n",
    "    print(\"You didn't pick a number between 1 and 7\")"
   ]
  },
  {
   "cell_type": "markdown",
   "metadata": {},
   "source": [
    "4. Write a loop which goes from 1 to 7 and prints out if today is a weekday or the weekend!"
   ]
  },
  {
   "cell_type": "code",
   "execution_count": 27,
   "metadata": {},
   "outputs": [
    {
     "name": "stdout",
     "output_type": "stream",
     "text": [
      "It's a weekday\n",
      "It's a weekday\n",
      "It's a weekday\n",
      "It's a weekday\n",
      "It's a weekday\n",
      "It's the weekend\n",
      "It's the weekend\n"
     ]
    }
   ],
   "source": [
    "newx = 0\n",
    "while newx<7:\n",
    "    newx = newx + 1\n",
    "    if newx >= 1 and newx<=5:\n",
    "        print(\"It's a weekday\")\n",
    "    elif newx == 6 or newx == 7:\n",
    "        print(\"It's the weekend\")\n",
    "    # This part of the code will only work if I allow newx to be greater than 7 in the while loop\n",
    "    # else:\n",
    "    #     print (\"End of the line!\")\n",
    "    #     break"
   ]
  },
  {
   "cell_type": "markdown",
   "metadata": {},
   "source": [
    "5. The rules for working out if a particular year is a leap year are:\n",
    "\n",
    "• If the year is divisible by four AND\n",
    "\n",
    "✓ The year is not divisible by 100 OR\n",
    "\n",
    "✓ The year is divisible by 400\n",
    "\n",
    "Write some code that prints out the year and whether it was a leap year between 1900 and today"
   ]
  },
  {
   "cell_type": "code",
   "execution_count": 44,
   "metadata": {},
   "outputs": [
    {
     "name": "stdout",
     "output_type": "stream",
     "text": [
      "This year is not a leap year\n"
     ]
    }
   ],
   "source": [
    "x = int(input(\"Pick any year\"))\n",
    "\n",
    "if x % 4 ==0 and (x % 100 > 0 or x % 400 == 0):\n",
    "    print(\"This year is a leap year\")\n",
    "else:\n",
    "    print(\"This year is not a leap year\")\n"
   ]
  }
 ],
 "metadata": {
  "kernelspec": {
   "display_name": "Python 3",
   "language": "python",
   "name": "python3"
  },
  "language_info": {
   "codemirror_mode": {
    "name": "ipython",
    "version": 3
   },
   "file_extension": ".py",
   "mimetype": "text/x-python",
   "name": "python",
   "nbconvert_exporter": "python",
   "pygments_lexer": "ipython3",
   "version": "3.11.4"
  },
  "orig_nbformat": 4
 },
 "nbformat": 4,
 "nbformat_minor": 2
}
