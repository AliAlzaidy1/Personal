{
 "cells": [
  {
   "cell_type": "markdown",
   "metadata": {},
   "source": [
    "Objective \n",
    "The objective of this task is to have some hands-on-practice with: \n",
    "- Collections \n",
    "- Functions \n",
    "- Packing and Unpacking \n",
    "\n",
    "Overview \n",
    "\n",
    "A user acts as a reader and asks another user, who doesn’t know the story, to write adjectives, nouns, verbs, \n",
    "adverbs etc. These words are then inserted into the story. \n",
    "\n",
    "Write a Python script that has: \n",
    "- Come up with a story with some blank spaces \n",
    "- Ask users for input and store them in your chosen collection \n",
    "- Use collection to fill in the blanks in your story \n",
    "- Organize code in functions "
   ]
  },
  {
   "cell_type": "code",
   "execution_count": null,
   "metadata": {},
   "outputs": [],
   "source": []
  }
 ],
 "metadata": {
  "kernelspec": {
   "display_name": "Python 3",
   "language": "python",
   "name": "python3"
  },
  "language_info": {
   "codemirror_mode": {
    "name": "ipython",
    "version": 3
   },
   "file_extension": ".py",
   "mimetype": "text/x-python",
   "name": "python",
   "nbconvert_exporter": "python",
   "pygments_lexer": "ipython3",
   "version": "3.11.4"
  },
  "orig_nbformat": 4
 },
 "nbformat": 4,
 "nbformat_minor": 2
}
